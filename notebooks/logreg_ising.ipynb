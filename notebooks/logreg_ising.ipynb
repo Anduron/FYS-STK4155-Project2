{
 "cells": [
  {
   "cell_type": "markdown",
   "metadata": {},
   "source": [
    "# Identifying 2D Ising Model Phases with Logistic Regression"
   ]
  },
  {
   "cell_type": "markdown",
   "metadata": {},
   "source": [
    "In this notebook we use the binary classification method logistic regression to determine the phases of the two-dimensional Ising model."
   ]
  },
  {
   "cell_type": "markdown",
   "metadata": {},
   "source": [
    "### Configure notebook"
   ]
  },
  {
   "cell_type": "code",
   "execution_count": 2,
   "metadata": {},
   "outputs": [],
   "source": [
    "%matplotlib inline\n",
    "%config InlineBackend.figure_format = 'retina'\n",
    "\n",
    "import os\n",
    "import sys\n",
    "\n",
    "import matplotlib.pyplot as plt\n",
    "from mpl_toolkits.axes_grid1 import make_axes_locatable\n",
    "import numpy as np\n",
    "import pandas as pd\n",
    "import pickle\n",
    "import urllib\n",
    "\n",
    "import warnings\n",
    "# Comment this to turn on warnings\n",
    "warnings.filterwarnings('ignore')\n",
    "\n",
    "# Import code from src\n",
    "sys.path.insert(0, '../src/')\n",
    "from logisticmodel import LogisticRegression\n",
    "from project_tools import fig_path\n",
    "\n",
    "# Set fontsizes in figures\n",
    "params = {'legend.fontsize': 'large',\n",
    "          'axes.labelsize': 'large',\n",
    "          'axes.titlesize': 'large',\n",
    "          'xtick.labelsize': 'large',\n",
    "          'ytick.labelsize': 'large',\n",
    "          'legend.fontsize': 'large',\n",
    "          'legend.handlelength': 2}\n",
    "plt.rcParams.update(params)\n",
    "os.environ['KMP_DUPLICATE_LIB_OK'] = 'True'\n"
   ]
  },
  {
   "cell_type": "markdown",
   "metadata": {},
   "source": [
    "### Ising model parameters"
   ]
  },
  {
   "cell_type": "code",
   "execution_count": 3,
   "metadata": {},
   "outputs": [],
   "source": [
    "np.random.seed(42) # shuffle random seed generator\n",
    "\n",
    "L = 40                          # linear system size\n",
    "J = -1.0                        # Ising interaction\n",
    "T = np.linspace(0.25, 4.0, 16)  # set of temperatures\n",
    "T_c = 2.26                      # Onsager critical temperature in the TD limit"
   ]
  },
  {
   "cell_type": "markdown",
   "metadata": {},
   "source": [
    "### Download data set"
   ]
  },
  {
   "cell_type": "code",
   "execution_count": 7,
   "metadata": {},
   "outputs": [],
   "source": [
    "# Run this cell to load data from web. \n",
    "# Downloaded files will be stored locally, i.e. one run of this cell is enough\n",
    "# Warning: data set is approx 2GB\n",
    "\n",
    "url_main = \"https://physics.bu.edu/~pankajm/ML-Review-Datasets/isingMC/\"\n",
    "data_file_name = \"Ising2DFM_reSample_L40_T=All.pkl\"\n",
    "label_file_name = \"Ising2DFM_reSample_L40_T=All_labels.pkl\"\n",
    "\n",
    "labels = pickle.load(urllib.request.urlopen(url_main + label_file_name))\n",
    "\n",
    "data = pickle.load(urllib.request.urlopen(url_main + data_file_name))\n",
    "data = np.unpackbits(data).reshape(-1, 1600)\n",
    "data = data.astype('int')\n",
    "\n",
    "np.save(\"labels\", labels)\n",
    "np.save(\"spin_data\", data)\n",
    "\n",
    "del data, labels"
   ]
  },
  {
   "cell_type": "markdown",
   "metadata": {},
   "source": [
    "### Load data set"
   ]
  },
  {
   "cell_type": "code",
   "execution_count": 4,
   "metadata": {},
   "outputs": [
    {
     "name": "stdout",
     "output_type": "stream",
     "text": [
      "X_train shape: (5200, 1600)\n",
      "Y_train shape: (5200,)\n",
      "\n",
      "5200 train samples\n",
      "30000 critical samples\n",
      "124800 test samples\n"
     ]
    }
   ],
   "source": [
    "X = np.load(\"spin_data.npy\")\n",
    "y = np.load(\"labels.npy\")\n",
    "\n",
    "# divide data into ordered, critical and disordered\n",
    "X_ordered = X[:70000,:]\n",
    "y_ordered = y[:70000]\n",
    "\n",
    "X_critical = X[70000:100000,:]\n",
    "y_critical = y[70000:100000]\n",
    "\n",
    "X_disordered = X[100000:,:]\n",
    "y_disordered = y[100000:]\n",
    "\n",
    "# define training and test data sets\n",
    "X = np.concatenate((X_ordered, X_disordered))\n",
    "y = np.concatenate((y_ordered, y_disordered))\n",
    "\n",
    "# create the training and test sets\n",
    "logreg = LogisticRegression()\n",
    "X_train, X_test, y_train, y_test = logreg.split_data(X, y, test_ratio=0.96)\n",
    "\n",
    "# full data set\n",
    "X = np.concatenate((X_critical, X))\n",
    "y = np.concatenate((y_critical, y))\n",
    "\n",
    "print('X_train shape:', X_train.shape)\n",
    "print('Y_train shape:', y_train.shape)\n",
    "print()\n",
    "print(X_train.shape[0], 'train samples')\n",
    "print(X_critical.shape[0], 'critical samples')\n",
    "print(X_test.shape[0], 'test samples')"
   ]
  },
  {
   "cell_type": "markdown",
   "metadata": {},
   "source": [
    "### Plot a few Ising states"
   ]
  },
  {
   "cell_type": "code",
   "execution_count": 5,
   "metadata": {},
   "outputs": [
    {
     "data": {
      "image/png": "[encoded data removed]",
      "text/plain": [
       "<Figure size 432x288 with 3 Axes>"
      ]
     },
     "metadata": {
      "image/png": {
       "height": 273,
       "width": 831
      },
      "needs_background": "light"
     },
     "output_type": "display_data"
    }
   ],
   "source": [
    "# set colourbar map\n",
    "cmap_args = dict(cmap='plasma_r')\n",
    "\n",
    "# plot states\n",
    "fig, axarr = plt.subplots(nrows=1, ncols=3)\n",
    "\n",
    "axarr[0].imshow(X_ordered[20001].reshape(L, L), **cmap_args)\n",
    "axarr[0].set_title('$\\\\mathrm{ordered\\\\ phase}$', fontsize=16)\n",
    "axarr[0].tick_params(labelsize=16)\n",
    "\n",
    "axarr[1].imshow(X_critical[10001].reshape(L, L), **cmap_args)\n",
    "axarr[1].set_title('$\\\\mathrm{critical\\\\ region}$', fontsize=16)\n",
    "axarr[1].tick_params(labelsize=16)\n",
    "\n",
    "im=axarr[2].imshow(X_disordered[50001].reshape(L,L),**cmap_args)\n",
    "axarr[2].set_title('$\\\\mathrm{disordered\\\\ phase}$',fontsize=16)\n",
    "axarr[2].tick_params(labelsize=16)\n",
    "\n",
    "fig.subplots_adjust(right=2.0)\n",
    "fig.savefig(fig_path(\"ising_2d_states.pdf\"), bbox_inches='tight')\n",
    "plt.show()"
   ]
  },
  {
   "cell_type": "markdown",
   "metadata": {},
   "source": [
    "## Identify phases"
   ]
  },
  {
   "cell_type": "code",
   "execution_count": 5,
   "metadata": {},
   "outputs": [
    {
     "name": "stdout",
     "output_type": "stream",
     "text": [
      "accuracy: train, test, critical\n",
      "GD: 65.0000, 64.8454, 33.3333\n",
      "Initial weights: [0. 0. 0. ... 0. 0. 0.]\n",
      "Iteration no: 0\n",
      "New beta: [ 1.0822665  -0.00959159  0.280615   ... -0.5054602  -0.04490254\n",
      " -0.04003564]\n",
      "Log likelihood: -2072.434170140541\n",
      "L2 change 9.282136259381602\n",
      "Iteration no: 1\n",
      "New beta: [ 1.55830564 -0.0434027   0.61985992 ... -1.12591211  0.01663899\n",
      " -0.14102939]\n",
      "Log likelihood: -1560.0428946185484\n",
      "L2 change 9.278986516637666\n",
      "Iteration no: 2\n",
      "New beta: [ 2.14102944 -0.30983501  1.3589014  ... -2.52711887  0.16238755\n",
      " -0.1870768 ]\n",
      "Log likelihood: -1130.2473903039927\n",
      "L2 change 16.620159694863197\n",
      "Iteration no: 3\n",
      "New beta: [ 2.94687054 -0.40577927  2.28644631 ... -4.50177596  0.2633935\n",
      " -0.09575877]\n",
      "Log likelihood: -839.8411053589734\n",
      "L2 change 25.099986545363617\n",
      "Iteration no: 4\n",
      "New beta: [ 3.97217768 -0.81814506  4.08741749 ... -6.69395568  0.83762182\n",
      " -0.01539743]\n",
      "Log likelihood: -767.3899584236715\n",
      "L2 change 30.41289382215998\n",
      "Iteration no: 5\n",
      "New beta: [  5.3057722   -1.44663141   5.36393705 ... -10.25617483   0.58351887\n",
      "  -0.11012925]\n",
      "Log likelihood: -2589.216779792463\n",
      "L2 change 79.54527125013304\n",
      "Iteration no: 6\n",
      "New beta: [-16.01452428   7.3078629   -4.49633715 ...   0.6322857   -3.54334347\n",
      "  -5.21023399]\n",
      "Log likelihood: -inf\n",
      "L2 change 1275.268462827154\n",
      "Iteration no: 7\n",
      "New beta: [ 7.70583124e+07 -7.29992273e+08  4.18940306e+07 ...  9.35619408e+08\n",
      " -9.14710574e+08  2.00729560e+08]\n",
      "Log likelihood: -inf\n",
      "L2 change 36390406027.09686\n",
      "Iteration no: 8\n",
      "New beta: [8.37401173e+10 6.77826170e+11 6.46330663e+12 ... 1.28549030e+12\n",
      " 3.13101261e+12 5.08826379e+12]\n",
      "Log likelihood: -inf\n",
      "L2 change 130265829694446.58\n",
      "Iteration no: 9\n",
      "New beta: [ 1.23615144e+14 -1.01681864e+16  1.70997395e+15 ...  2.45702697e+12\n",
      "  1.15782624e+14  1.14842826e+14]\n",
      "Log likelihood: -inf\n",
      "L2 change 1.1875918755667872e+16\n",
      "NR: 61.7500, 60.4423, 65.9700\n"
     ]
    }
   ],
   "source": [
    "# fit training data\n",
    "logreg = LogisticRegression(n_iter=10)\n",
    "logreg.fit(X_train, y_train)\n",
    "\n",
    "# check accuracy\n",
    "train_accuracy = logreg.accuracy(X_train, y_train)\n",
    "test_accuracy = logreg.accuracy(X_test, y_test)\n",
    "critical_accuracy = logreg.accuracy(X_critical, y_critical)\n",
    "\n",
    "print('accuracy: train, test, critical')\n",
    "print('GD: %0.4f, %0.4f, %0.4f' %(train_accuracy, test_accuracy, critical_accuracy))\n",
    "\n",
    "logreg.fit(X_train, y_train, method='NR', verbose=True)\n",
    "\n",
    "# check accuracy\n",
    "train_accuracy = logreg.accuracy(X_train, y_train)\n",
    "test_accuracy = logreg.accuracy(X_test, y_test)\n",
    "critical_accuracy = logreg.accuracy(X_critical, y_critical)\n",
    "print('NR: %0.4f, %0.4f, %0.4f' %(train_accuracy, test_accuracy, critical_accuracy))"
   ]
  },
  {
   "cell_type": "code",
   "execution_count": null,
   "metadata": {},
   "outputs": [],
   "source": []
  }
 ],
 "metadata": {
  "kernelspec": {
   "display_name": "Python 3",
   "language": "python",
   "name": "python3"
  },
  "language_info": {
   "codemirror_mode": {
    "name": "ipython",
    "version": 3
   },
   "file_extension": ".py",
   "mimetype": "text/x-python",
   "name": "python",
   "nbconvert_exporter": "python",
   "pygments_lexer": "ipython3",
   "version": "3.7.3"
  }
 },
 "nbformat": 4,
 "nbformat_minor": 2
}
